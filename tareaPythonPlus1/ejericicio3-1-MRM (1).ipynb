{
 "cells": [
  {
   "cell_type": "markdown",
   "id": "b015a19f",
   "metadata": {},
   "source": [
    "# Actividad 1 por Python plus\n"
   ]
  },
  {
   "cell_type": "markdown",
   "id": "b0d0ad1d",
   "metadata": {},
   "source": [
    "## Parte I: resolvé el siguiente desafío:"
   ]
  },
  {
   "cell_type": "markdown",
   "id": "dc5f63bc",
   "metadata": {},
   "source": [
    "EJERCICIO 3: dado el archivo denominado [BBB_nuevo.csv](https://archivos.linti.unlp.edu.ar/index.php/s/q9b3rCrlhOS1yWU) que contiene los accesos al recurso BigBlueButton que usamos para las clases virtuales de la materia, se desea generar una función que retorne en qué fecha se vieron más las grabaciones (Evento: \"Grabación vista\").\n"
   ]
  },
  {
   "cell_type": "code",
   "execution_count": null,
   "id": "5021bb7c",
   "metadata": {},
   "outputs": [],
   "source": [
    "#Solución\n",
    "import csv #importamos csv para poder trabajar con el archivo\n",
    "accesos = open('BBB_nuevo.csv','r') #abrimos el archivo en accesos\n",
    "\n",
    "def es_grabacion(acceso):\n",
    "    \"\"\"Esta funcion retorna si un acceso es una grabacion vista o no)\"\"\"\n",
    "    if (acceso[2] == \"Grabación vista\"):\n",
    "        return True\n",
    "    else:\n",
    "        return False\n",
    "    \n",
    "def mas_grabaciones():\n",
    "    \"\"\"Esta funcion retorna la fecha con mas grabaciones vistas\"\"\"\n",
    "    accesos_reader = csv.reader(accesos)\n",
    "    filas = []\n",
    "    for fila in accesos_reader:\n",
    "        filas.append(fila)\n",
    "    filas = [l for l in filas if es_grabacion(l)] #guardamos en filas solo aquellas que sean accesos de grabaciones vistas\n",
    "    fechas = [f[0].split(' ')[0] for f in filas] #creamos una lista de las fechas de cada una de las filas(accesos) \n",
    "    return max(set(fechas), key=fechas.count) #retornamos la fecha que mas veces aparece en la lista fechas\n",
    "\n",
    "print(\"La fecha con mas grabaciones vistas es: \", mas_grabaciones())"
   ]
  },
  {
   "cell_type": "code",
   "execution_count": null,
   "id": "430c6cb6",
   "metadata": {},
   "outputs": [],
   "source": []
  }
 ],
 "metadata": {
  "kernelspec": {
   "display_name": "Python 3 (ipykernel)",
   "language": "python",
   "name": "python3"
  },
  "language_info": {
   "codemirror_mode": {
    "name": "ipython",
    "version": 3
   },
   "file_extension": ".py",
   "mimetype": "text/x-python",
   "name": "python",
   "nbconvert_exporter": "python",
   "pygments_lexer": "ipython3",
   "version": "3.10.0"
  }
 },
 "nbformat": 4,
 "nbformat_minor": 5
}
